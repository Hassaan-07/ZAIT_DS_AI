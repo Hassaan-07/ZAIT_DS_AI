{
 "cells": [
  {
   "cell_type": "markdown",
   "id": "61e9add8-572f-450e-9aab-0c27b25d50c8",
   "metadata": {},
   "source": [
    "# HACKATHON PROJECT - OOP BASED BANKING APP\n",
    "    - Student: Hassaan Raheem\n",
    "    - ID: 333310\n",
    "    - Course : ZAIT-DATA SCIENCE AND AI - Batch 7\n",
    "    - tutor : Sir Nasir Hussain\n",
    "    - Date : 8/1/2025"
   ]
  },
  {
   "cell_type": "code",
   "execution_count": 1,
   "id": "ea209b89-75c6-42d7-ad89-7a9051f75c4d",
   "metadata": {},
   "outputs": [],
   "source": [
    "class BankAccount:\n",
    "    def __init__(self, account_number, account_holder, balance=0):\n",
    "        self.account_number = account_number\n",
    "        self.account_holder = account_holder\n",
    "        self.balance = balance\n",
    "    def deposit(self, amount):\n",
    "        if amount > 0:\n",
    "            self.balance += amount\n",
    "            return True\n",
    "        else:\n",
    "            return False\n",
    "    def withdraw(self, amount):\n",
    "        if amount > 0 and amount <= self.balance:\n",
    "            self.balance -= amount\n",
    "            return True\n",
    "        else:\n",
    "            return False\n",
    "    def transfer(self, amount, target_account):\n",
    "        if self.withdraw(amount):\n",
    "            target_account.deposit(amount)\n",
    "            return True\n",
    "        else:\n",
    "            return False\n",
    "    def get_balance(self):\n",
    "        return self.balance\n",
    "    def __str__(self):\n",
    "        return f\"Account Number: {self.account_number}, Account Holder: {self.account_holder}, Balance: ${self.balance}\""
   ]
  },
  {
   "cell_type": "code",
   "execution_count": 2,
   "id": "62d5f845-b2d2-4eee-be8d-e00dbc5e7da2",
   "metadata": {},
   "outputs": [],
   "source": [
    "\n",
    "class Transaction:\n",
    "    def __init__(self, transaction_id, transaction_type, amount, account_number):\n",
    "        self.transaction_id = transaction_id\n",
    "        self.transaction_type = transaction_type\n",
    "        self.amount = amount\n",
    "        self.account_number = account_number\n",
    "    def __str__(self):\n",
    "        return f\"Transaction ID: {self.transaction_id}, Type: {self.transaction_type}, Amount: ${self.amount}, Account Number: {self.account_number}\""
   ]
  },
  {
   "cell_type": "code",
   "execution_count": 3,
   "id": "e40e9dab-9c22-453f-a5f0-b0974e3bf64d",
   "metadata": {},
   "outputs": [],
   "source": [
    "\n",
    "class Bank:\n",
    "    def __init__(self):\n",
    "        self.accounts = {}\n",
    "        self.transactions = []\n",
    "    def create_account(self, account_number, account_holder, initial_balance=0):\n",
    "        if account_number not in self.accounts:\n",
    "            self.accounts[account_number] = BankAccount(account_number, account_holder, initial_balance)\n",
    "            return True\n",
    "        else:\n",
    "            return False\n",
    "    def get_account(self, account_number):\n",
    "        return self.accounts.get(account_number, None)\n",
    "    def record_transaction(self, transaction):\n",
    "        self.transactions.append(transaction)\n",
    "    def show_account_details(self, account_number):\n",
    "        account = self.get_account(account_number)\n",
    "        if account:\n",
    "            return str(account)\n",
    "        else:\n",
    "            return \"Account not found.\"\n",
    "    def show_all_accounts(self):\n",
    "        return [str(account) for account in self.accounts.values()]\n",
    "    def show_all_transactions(self):\n",
    "        return [str(transaction) for transaction in self.transactions]"
   ]
  },
  {
   "cell_type": "code",
   "execution_count": 6,
   "id": "990f443e-cf94-4232-9598-3e8b9390b856",
   "metadata": {},
   "outputs": [],
   "source": [
    "\n",
    "def admin():\n",
    "    apass = input(\"enter admin password: \")\n",
    "    return apass == \"zaithackathon\"\n",
    "\n",
    "def main():\n",
    "\n",
    "    # Creating a bank instance\n",
    "    bank = Bank()\n",
    "    display = {\n",
    "        \"main\": f''' \n",
    "            1. Users\n",
    "            2. Admin\n",
    "            3. Exit\n",
    "        ''',\n",
    "        \"admin\": f'''\n",
    "            1. View All Accounts\n",
    "            2. View All Transactions\n",
    "            3. Back\n",
    "        ''',\n",
    "        \"users\":f'''\n",
    "            1. Open Account\n",
    "            2. Deposit\n",
    "            3. Withdraw\n",
    "            4. Check Balance\n",
    "            5. Transfer\n",
    "            6. Back\n",
    "        '''\n",
    "    }\n",
    "    user_id = 1000\n",
    "    trans_id = 0\n",
    "    print(\"------------------------------BANK APP------------------------------\")\n",
    "    while True:\n",
    "        print(display[\"main\"])\n",
    "        key = int(input(\"Enter a key: \"))\n",
    "        if key==1:\n",
    "            while True:\n",
    "                print(display[\"users\"])\n",
    "                akey = int(input(\"Enter a key: \"))\n",
    "                if akey == 1:\n",
    "                    print(\"---------------Account Creation Panel---------------\")\n",
    "                    user_id += 1\n",
    "                    username = input(\"Enter username:\")\n",
    "                    balance = float(input(\"Enter intial balance\"))\n",
    "                    bank.create_account(str(user_id), username, balance)\n",
    "                    print(f\"---------------{username}, your account has been created---------------\")\n",
    "                elif akey == 2:\n",
    "                    print(\"---------------Deposit Panel---------------\")\n",
    "                    trans_id += 1\n",
    "                    account_id = input(\"Enter account id: \")\n",
    "                    amount = float(input(\"Enter deposit amount: \"))\n",
    "                    account = bank.get_account(account_id)\n",
    "                    account.deposit(amount)\n",
    "                    bank.record_transaction(Transaction(trans_id, \"Deposit\", amount, account_id))\n",
    "                    print(\"---------------Deposit Done---------------\")\n",
    "                    \n",
    "                elif akey == 3:\n",
    "                    print(\"---------------Withdraw Panel---------------\")\n",
    "                    trans_id += 1\n",
    "                    account_id = input(\"Enter account id: \")\n",
    "                    amount = float(input(\"Enter withdraw amount: \"))\n",
    "                    account = bank.get_account(account_id)\n",
    "                    account.withdraw(200)\n",
    "                    bank.record_transaction(Transaction(trans_id, \"Withdrawal\", amount, account_id))\n",
    "                    print(\"---------------Withdraw Done---------------\")\n",
    "                elif akey == 4:\n",
    "                    print(\"---------------BALANCE INQUIRY---------------\")\n",
    "                    acc_id = input(\"Enter account id: \")\n",
    "                    print(bank.show_account_details(acc_id))\n",
    "                elif akey == 5:\n",
    "                    print(\"---------------Transfer Panel---------------\")\n",
    "                    trans_id += 1\n",
    "                    s_id = input(\"Your account id: \")\n",
    "                    r_id = input(\"Receiver account id: \")\n",
    "                    amount = float(input(\"Enter transfer amount: \"))\n",
    "                    account1 = bank.get_account(s_id)\n",
    "                    account2 = bank.get_account(r_id)\n",
    "                    account1.transfer(amount, account2)\n",
    "                    bank.record_transaction(Transaction(trans_id, \"Transfer\", amount, s_id))\n",
    "                    print(\"---------------Amount Transfered Sucessfully---------------\")\n",
    "                                    \n",
    "                elif akey == 6:\n",
    "                    break\n",
    "                else:\n",
    "                    print(\"invalid key entered.\")\n",
    "                    \n",
    "                    \n",
    "        elif key == 2:\n",
    "            if admin:\n",
    "                print(display[\"admin\"])\n",
    "                while True:\n",
    "                    akey = int(input(\"Enter a key: \"))\n",
    "                    if akey == 1:\n",
    "                        print(\"---------------SHOWING ALL ACCOUNTS---------------\")\n",
    "                        for line in bank.show_all_accounts():\n",
    "                            print(line)\n",
    "                    elif akey == 2:\n",
    "                        print(\"---------------SHOWING ALL TRANSACTIONS---------------\")\n",
    "                        for line in bank.show_all_transactions():\n",
    "                            print(line)\n",
    "                        \n",
    "                    elif akey == 3:\n",
    "                        break\n",
    "                    else:\n",
    "                        print(\"invalid key entered.\")\n",
    "                        \n",
    "            else:\n",
    "                print(\"ADMIN LOGIN FAILED.\")\n",
    "            pass\n",
    "        elif key == 3:\n",
    "            print(\"------------------------------Bank IS CLOSED------------------------------\")\n",
    "            break\n",
    "        "
   ]
  },
  {
   "cell_type": "code",
   "execution_count": 8,
   "id": "6546faca-f5e3-4d47-8171-236fcb7e5394",
   "metadata": {},
   "outputs": [
    {
     "name": "stdout",
     "output_type": "stream",
     "text": [
      "------------------------------BANK APP------------------------------\n",
      " \n",
      "            1. Users\n",
      "            2. Admin\n",
      "            3. Exit\n",
      "        \n"
     ]
    },
    {
     "name": "stdin",
     "output_type": "stream",
     "text": [
      "Enter a key:  1\n"
     ]
    },
    {
     "name": "stdout",
     "output_type": "stream",
     "text": [
      "\n",
      "            1. Open Account\n",
      "            2. Deposit\n",
      "            3. Withdraw\n",
      "            4. Check Balance\n",
      "            5. Transfer\n",
      "            6. Back\n",
      "        \n"
     ]
    },
    {
     "name": "stdin",
     "output_type": "stream",
     "text": [
      "Enter a key:  1\n"
     ]
    },
    {
     "name": "stdout",
     "output_type": "stream",
     "text": [
      "---------------Account Creation Panel---------------\n"
     ]
    },
    {
     "name": "stdin",
     "output_type": "stream",
     "text": [
      "Enter username: Hassaan\n",
      "Enter intial balance 1000\n"
     ]
    },
    {
     "name": "stdout",
     "output_type": "stream",
     "text": [
      "---------------Hassaan, your account has been created---------------\n",
      "\n",
      "            1. Open Account\n",
      "            2. Deposit\n",
      "            3. Withdraw\n",
      "            4. Check Balance\n",
      "            5. Transfer\n",
      "            6. Back\n",
      "        \n"
     ]
    },
    {
     "name": "stdin",
     "output_type": "stream",
     "text": [
      "Enter a key:  1\n"
     ]
    },
    {
     "name": "stdout",
     "output_type": "stream",
     "text": [
      "---------------Account Creation Panel---------------\n"
     ]
    },
    {
     "name": "stdin",
     "output_type": "stream",
     "text": [
      "Enter username: Shafiq\n",
      "Enter intial balance 500\n"
     ]
    },
    {
     "name": "stdout",
     "output_type": "stream",
     "text": [
      "---------------Shafiq, your account has been created---------------\n",
      "\n",
      "            1. Open Account\n",
      "            2. Deposit\n",
      "            3. Withdraw\n",
      "            4. Check Balance\n",
      "            5. Transfer\n",
      "            6. Back\n",
      "        \n"
     ]
    },
    {
     "name": "stdin",
     "output_type": "stream",
     "text": [
      "Enter a key:  2\n"
     ]
    },
    {
     "name": "stdout",
     "output_type": "stream",
     "text": [
      "---------------Deposit Panel---------------\n"
     ]
    },
    {
     "name": "stdin",
     "output_type": "stream",
     "text": [
      "Enter account id:  1001\n",
      "Enter deposit amount:  500\n"
     ]
    },
    {
     "name": "stdout",
     "output_type": "stream",
     "text": [
      "---------------Deposit Done---------------\n",
      "\n",
      "            1. Open Account\n",
      "            2. Deposit\n",
      "            3. Withdraw\n",
      "            4. Check Balance\n",
      "            5. Transfer\n",
      "            6. Back\n",
      "        \n"
     ]
    },
    {
     "name": "stdin",
     "output_type": "stream",
     "text": [
      "Enter a key:  3\n"
     ]
    },
    {
     "name": "stdout",
     "output_type": "stream",
     "text": [
      "---------------Withdraw Panel---------------\n"
     ]
    },
    {
     "name": "stdin",
     "output_type": "stream",
     "text": [
      "Enter account id:  1002\n",
      "Enter withdraw amount:  250\n"
     ]
    },
    {
     "name": "stdout",
     "output_type": "stream",
     "text": [
      "---------------Withdraw Done---------------\n",
      "\n",
      "            1. Open Account\n",
      "            2. Deposit\n",
      "            3. Withdraw\n",
      "            4. Check Balance\n",
      "            5. Transfer\n",
      "            6. Back\n",
      "        \n"
     ]
    },
    {
     "name": "stdin",
     "output_type": "stream",
     "text": [
      "Enter a key:  4\n"
     ]
    },
    {
     "name": "stdout",
     "output_type": "stream",
     "text": [
      "---------------BALANCE INQUIRY---------------\n"
     ]
    },
    {
     "name": "stdin",
     "output_type": "stream",
     "text": [
      "Enter account id:  1002\n"
     ]
    },
    {
     "name": "stdout",
     "output_type": "stream",
     "text": [
      "Account Number: 1002, Account Holder: Shafiq, Balance: $300.0\n",
      "\n",
      "            1. Open Account\n",
      "            2. Deposit\n",
      "            3. Withdraw\n",
      "            4. Check Balance\n",
      "            5. Transfer\n",
      "            6. Back\n",
      "        \n"
     ]
    },
    {
     "name": "stdin",
     "output_type": "stream",
     "text": [
      "Enter a key:  5\n"
     ]
    },
    {
     "name": "stdout",
     "output_type": "stream",
     "text": [
      "---------------Transfer Panel---------------\n"
     ]
    },
    {
     "name": "stdin",
     "output_type": "stream",
     "text": [
      "Your account id:  1001\n",
      "Receiver account id:  1002\n",
      "Enter transfer amount:  300\n"
     ]
    },
    {
     "name": "stdout",
     "output_type": "stream",
     "text": [
      "---------------Amount Transfered Sucessfully---------------\n",
      "\n",
      "            1. Open Account\n",
      "            2. Deposit\n",
      "            3. Withdraw\n",
      "            4. Check Balance\n",
      "            5. Transfer\n",
      "            6. Back\n",
      "        \n"
     ]
    },
    {
     "name": "stdin",
     "output_type": "stream",
     "text": [
      "Enter a key:  6\n"
     ]
    },
    {
     "name": "stdout",
     "output_type": "stream",
     "text": [
      " \n",
      "            1. Users\n",
      "            2. Admin\n",
      "            3. Exit\n",
      "        \n"
     ]
    },
    {
     "name": "stdin",
     "output_type": "stream",
     "text": [
      "Enter a key:  2\n"
     ]
    },
    {
     "name": "stdout",
     "output_type": "stream",
     "text": [
      "\n",
      "            1. View All Accounts\n",
      "            2. View All Transactions\n",
      "            3. Back\n",
      "        \n"
     ]
    },
    {
     "name": "stdin",
     "output_type": "stream",
     "text": [
      "Enter a key:  1\n"
     ]
    },
    {
     "name": "stdout",
     "output_type": "stream",
     "text": [
      "---------------SHOWING ALL ACCOUNTS---------------\n",
      "Account Number: 1001, Account Holder: Hassaan, Balance: $1200.0\n",
      "Account Number: 1002, Account Holder: Shafiq, Balance: $600.0\n"
     ]
    },
    {
     "name": "stdin",
     "output_type": "stream",
     "text": [
      "Enter a key:  2\n"
     ]
    },
    {
     "name": "stdout",
     "output_type": "stream",
     "text": [
      "---------------SHOWING ALL TRANSACTIONS---------------\n",
      "Transaction ID: 1, Type: Deposit, Amount: $500.0, Account Number: 1001\n",
      "Transaction ID: 2, Type: Withdrawal, Amount: $250.0, Account Number: 1002\n",
      "Transaction ID: 3, Type: Transfer, Amount: $300.0, Account Number: 1001\n"
     ]
    },
    {
     "name": "stdin",
     "output_type": "stream",
     "text": [
      "Enter a key:  3\n"
     ]
    },
    {
     "name": "stdout",
     "output_type": "stream",
     "text": [
      " \n",
      "            1. Users\n",
      "            2. Admin\n",
      "            3. Exit\n",
      "        \n"
     ]
    },
    {
     "name": "stdin",
     "output_type": "stream",
     "text": [
      "Enter a key:  3\n"
     ]
    },
    {
     "name": "stdout",
     "output_type": "stream",
     "text": [
      "------------------------------Bank IS CLOSED------------------------------\n"
     ]
    }
   ],
   "source": [
    "main()"
   ]
  }
 ],
 "metadata": {
  "kernelspec": {
   "display_name": "Python 3 (ipykernel)",
   "language": "python",
   "name": "python3"
  },
  "language_info": {
   "codemirror_mode": {
    "name": "ipython",
    "version": 3
   },
   "file_extension": ".py",
   "mimetype": "text/x-python",
   "name": "python",
   "nbconvert_exporter": "python",
   "pygments_lexer": "ipython3",
   "version": "3.12.7"
  }
 },
 "nbformat": 4,
 "nbformat_minor": 5
}
